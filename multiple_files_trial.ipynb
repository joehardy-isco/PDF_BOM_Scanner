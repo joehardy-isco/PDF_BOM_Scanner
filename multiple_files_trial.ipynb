{
 "cells": [
  {
   "cell_type": "code",
   "execution_count": 17,
   "id": "dbbecc02",
   "metadata": {},
   "outputs": [],
   "source": [
    "import os\n",
    "import numpy as np\n",
    "import fitz\n",
    "import pandas as pd\n",
    "from tqdm import tqdm\n",
    "fol_path = r'\\\\isco-pipe.local\\root\\Common\\EPC\\Crowder Industrial\\Crowder Santee Cooper Winyah ELG\\Isometrics'"
   ]
  },
  {
   "cell_type": "code",
   "execution_count": 18,
   "id": "7e81e1e4",
   "metadata": {},
   "outputs": [],
   "source": [
    "def extract_text_pymupdf(pdf_path):\n",
    "    doc = fitz.open(pdf_path)\n",
    "    text = \"\"\n",
    "    for page in doc:\n",
    "        text += page.get_text()\n",
    "    return text\n",
    "\n",
    "def do_extraction(full_pdf_path):\n",
    "    # Extract text using PyMuPDF\n",
    "    pymupdf_text = extract_text_pymupdf(full_pdf_path).split(\"\\n\")\n",
    "    bill_of_materials = []\n",
    "    start_collecting = False\n",
    "    for line in pymupdf_text:\n",
    "        if line=='N':\n",
    "            break\n",
    "        if line=='BILL OF MATERIALS':\n",
    "            start_collecting = True\n",
    "        bill_of_materials.append(line)\n",
    "    return bill_of_materials\n",
    "\n",
    "def make_table(bill_of_materials):\n",
    "    new_table = []\n",
    "    second_table = []\n",
    "    unallowed = ['BILL OF MATERIALS','PIPE','FITTINGS','OLETS','FLANGES','VALVES','PIPE SUPPORTS']\n",
    "    columns = ['ID','QTY','ND','DESCRIPTION','SUPPORT DETAIL']\n",
    "    columns_seen = [0,0,0,0,0]\n",
    "    table_to_input = new_table\n",
    "    second_table_used = False\n",
    "    for t_element in bill_of_materials:\n",
    "        if not t_element.upper().strip() in unallowed:\n",
    "            try:\n",
    "                col_i = columns.index(t_element.upper().strip())\n",
    "            except:\n",
    "                col_i = -1\n",
    "            if col_i!=-1:\n",
    "                if columns_seen[col_i]==0:\n",
    "                    if t_element=='SUPPORT DETAIL':\n",
    "                        new_table = table_to_input\n",
    "                        table_to_input = second_table\n",
    "                        table_to_input.extend(columns[:-1])\n",
    "                        second_table_used = True\n",
    "                    columns_seen[col_i]=1\n",
    "                elif columns_seen[col_i]==1:\n",
    "                    continue\n",
    "            table_to_input.append(t_element)\n",
    "    if second_table_used:\n",
    "        second_table = table_to_input\n",
    "    else:\n",
    "        new_table = table_to_input\n",
    "    new_table = np.array(new_table).reshape(-1,4)\n",
    "    if len(second_table)>0:\n",
    "        second_table = np.array(second_table).reshape(-1,5)\n",
    "    return new_table,second_table\n",
    "\n",
    "def combine_tables(new_table,second_table,pdf_path):\n",
    "    ndf = pd.DataFrame(new_table)\n",
    "    ndf.columns = ndf.iloc[0]\n",
    "    ndf = ndf.drop(0)\n",
    "    if isinstance(second_table,np.ndarray):\n",
    "        sdf = pd.DataFrame(second_table)\n",
    "        sdf.columns = sdf.iloc[0]\n",
    "        sdf = sdf.drop(0)\n",
    "        combined = pd.concat([ndf, sdf])#.fillna(None)\n",
    "        final = combined\n",
    "    else:\n",
    "        final = ndf\n",
    "    final['FILE_PATH'] = os.path.split(pdf_path)[1]\n",
    "    return final\n",
    "\n",
    "def extract_bill_of_materials(pdf_path):\n",
    "    bill_of_materials = do_extraction(pdf_path)\n",
    "    t1,t2 = make_table(bill_of_materials)\n",
    "    t = combine_tables(t1,t2,pdf_path)\n",
    "    return t\n",
    "\n",
    "def extract_bills_of_materials(fol_path):\n",
    "    bills_of_materials = []\n",
    "    errors = []\n",
    "    for pdf in tqdm(os.listdir(fol_path)):\n",
    "        pdf_path = os.path.join(fol_path,pdf)\n",
    "        try:\n",
    "            bills_of_materials.append(extract_bill_of_materials(pdf_path))\n",
    "        except Exception as e:\n",
    "            print((pdf_path,e))\n",
    "            errors.append((pdf_path,e))\n",
    "            \n",
    "    return bills_of_materials,errors"
   ]
  },
  {
   "cell_type": "code",
   "execution_count": 20,
   "id": "a8fc1be0",
   "metadata": {},
   "outputs": [
    {
     "name": "stderr",
     "output_type": "stream",
     "text": [
      " 18%|██████████████▍                                                                  | 50/280 [00:46<03:21,  1.14it/s]"
     ]
    },
    {
     "name": "stdout",
     "output_type": "stream",
     "text": [
      "('\\\\\\\\isco-pipe.local\\\\root\\\\Common\\\\EPC\\\\Crowder Industrial\\\\Crowder Santee Cooper Winyah ELG\\\\Isometrics\\\\18-0-528-40603-PE01 - Isometric.pdf', ValueError('cannot reshape array of size 39 into shape (4)'))\n"
     ]
    },
    {
     "name": "stderr",
     "output_type": "stream",
     "text": [
      " 24%|███████████████████▋                                                             | 68/280 [01:02<03:01,  1.17it/s]"
     ]
    },
    {
     "name": "stdout",
     "output_type": "stream",
     "text": [
      "('\\\\\\\\isco-pipe.local\\\\root\\\\Common\\\\EPC\\\\Crowder Industrial\\\\Crowder Santee Cooper Winyah ELG\\\\Isometrics\\\\3-0-528-40401A-PE01 - Isometric.pdf', ValueError('cannot reshape array of size 39 into shape (4)'))\n"
     ]
    },
    {
     "name": "stderr",
     "output_type": "stream",
     "text": [
      "\r",
      " 25%|███████████████████▉                                                             | 69/280 [01:03<02:59,  1.18it/s]"
     ]
    },
    {
     "name": "stdout",
     "output_type": "stream",
     "text": [
      "('\\\\\\\\isco-pipe.local\\\\root\\\\Common\\\\EPC\\\\Crowder Industrial\\\\Crowder Santee Cooper Winyah ELG\\\\Isometrics\\\\3-0-528-40401B-PE01 - Isometric.pdf', ValueError('cannot reshape array of size 39 into shape (4)'))\n"
     ]
    },
    {
     "name": "stderr",
     "output_type": "stream",
     "text": [
      "\r",
      " 25%|████████████████████▎                                                            | 70/280 [01:04<02:58,  1.18it/s]"
     ]
    },
    {
     "name": "stdout",
     "output_type": "stream",
     "text": [
      "('\\\\\\\\isco-pipe.local\\\\root\\\\Common\\\\EPC\\\\Crowder Industrial\\\\Crowder Santee Cooper Winyah ELG\\\\Isometrics\\\\3-0-528-40401C-PE01 - Isometric.pdf', ValueError('cannot reshape array of size 39 into shape (4)'))\n"
     ]
    },
    {
     "name": "stderr",
     "output_type": "stream",
     "text": [
      "\r",
      " 25%|████████████████████▌                                                            | 71/280 [01:05<02:56,  1.19it/s]"
     ]
    },
    {
     "name": "stdout",
     "output_type": "stream",
     "text": [
      "('\\\\\\\\isco-pipe.local\\\\root\\\\Common\\\\EPC\\\\Crowder Industrial\\\\Crowder Santee Cooper Winyah ELG\\\\Isometrics\\\\3-0-528-40401D-PE01 - Isometric.pdf', ValueError('cannot reshape array of size 39 into shape (4)'))\n"
     ]
    },
    {
     "name": "stderr",
     "output_type": "stream",
     "text": [
      "\r",
      " 26%|████████████████████▊                                                            | 72/280 [01:05<02:53,  1.20it/s]"
     ]
    },
    {
     "name": "stdout",
     "output_type": "stream",
     "text": [
      "('\\\\\\\\isco-pipe.local\\\\root\\\\Common\\\\EPC\\\\Crowder Industrial\\\\Crowder Santee Cooper Winyah ELG\\\\Isometrics\\\\3-0-528-40401E-PE01 - Isometric.pdf', ValueError('cannot reshape array of size 39 into shape (4)'))\n"
     ]
    },
    {
     "name": "stderr",
     "output_type": "stream",
     "text": [
      "\r",
      " 26%|█████████████████████                                                            | 73/280 [01:06<02:53,  1.19it/s]"
     ]
    },
    {
     "name": "stdout",
     "output_type": "stream",
     "text": [
      "('\\\\\\\\isco-pipe.local\\\\root\\\\Common\\\\EPC\\\\Crowder Industrial\\\\Crowder Santee Cooper Winyah ELG\\\\Isometrics\\\\3-0-528-40401F-PE01 - Isometric.pdf', ValueError('cannot reshape array of size 39 into shape (4)'))\n"
     ]
    },
    {
     "name": "stderr",
     "output_type": "stream",
     "text": [
      "\r",
      " 26%|█████████████████████▍                                                           | 74/280 [01:07<02:52,  1.20it/s]"
     ]
    },
    {
     "name": "stdout",
     "output_type": "stream",
     "text": [
      "('\\\\\\\\isco-pipe.local\\\\root\\\\Common\\\\EPC\\\\Crowder Industrial\\\\Crowder Santee Cooper Winyah ELG\\\\Isometrics\\\\3-0-528-40401G-PE01 - Isometric.pdf', ValueError('cannot reshape array of size 39 into shape (4)'))\n"
     ]
    },
    {
     "name": "stderr",
     "output_type": "stream",
     "text": [
      "\r",
      " 27%|█████████████████████▋                                                           | 75/280 [01:08<02:51,  1.20it/s]"
     ]
    },
    {
     "name": "stdout",
     "output_type": "stream",
     "text": [
      "('\\\\\\\\isco-pipe.local\\\\root\\\\Common\\\\EPC\\\\Crowder Industrial\\\\Crowder Santee Cooper Winyah ELG\\\\Isometrics\\\\3-0-528-40401H-PE01 - Isometric.pdf', ValueError('cannot reshape array of size 39 into shape (4)'))\n"
     ]
    },
    {
     "name": "stderr",
     "output_type": "stream",
     "text": [
      "\r",
      " 27%|█████████████████████▉                                                           | 76/280 [01:09<02:49,  1.20it/s]"
     ]
    },
    {
     "name": "stdout",
     "output_type": "stream",
     "text": [
      "('\\\\\\\\isco-pipe.local\\\\root\\\\Common\\\\EPC\\\\Crowder Industrial\\\\Crowder Santee Cooper Winyah ELG\\\\Isometrics\\\\3-0-528-40401J-PE01 - Isometric.pdf', ValueError('cannot reshape array of size 39 into shape (4)'))\n"
     ]
    },
    {
     "name": "stderr",
     "output_type": "stream",
     "text": [
      "\r",
      " 28%|██████████████████████▎                                                          | 77/280 [01:10<02:48,  1.20it/s]"
     ]
    },
    {
     "name": "stdout",
     "output_type": "stream",
     "text": [
      "('\\\\\\\\isco-pipe.local\\\\root\\\\Common\\\\EPC\\\\Crowder Industrial\\\\Crowder Santee Cooper Winyah ELG\\\\Isometrics\\\\3-0-528-40401K-PE01 - Isometric.pdf', ValueError('cannot reshape array of size 39 into shape (4)'))\n"
     ]
    },
    {
     "name": "stderr",
     "output_type": "stream",
     "text": [
      "\r",
      " 28%|██████████████████████▌                                                          | 78/280 [01:10<02:47,  1.21it/s]"
     ]
    },
    {
     "name": "stdout",
     "output_type": "stream",
     "text": [
      "('\\\\\\\\isco-pipe.local\\\\root\\\\Common\\\\EPC\\\\Crowder Industrial\\\\Crowder Santee Cooper Winyah ELG\\\\Isometrics\\\\3-0-528-40401L-PE01 - Isometric.pdf', ValueError('cannot reshape array of size 39 into shape (4)'))\n"
     ]
    },
    {
     "name": "stderr",
     "output_type": "stream",
     "text": [
      "\r",
      " 28%|██████████████████████▊                                                          | 79/280 [01:11<02:24,  1.39it/s]"
     ]
    },
    {
     "name": "stdout",
     "output_type": "stream",
     "text": [
      "('\\\\\\\\isco-pipe.local\\\\root\\\\Common\\\\EPC\\\\Crowder Industrial\\\\Crowder Santee Cooper Winyah ELG\\\\Isometrics\\\\3-0-528-40401M-PE01 - Isometric.pdf', ValueError('cannot reshape array of size 39 into shape (4)'))\n"
     ]
    },
    {
     "name": "stderr",
     "output_type": "stream",
     "text": [
      "\r",
      " 29%|███████████████████████▏                                                         | 80/280 [01:11<02:12,  1.50it/s]"
     ]
    },
    {
     "name": "stdout",
     "output_type": "stream",
     "text": [
      "('\\\\\\\\isco-pipe.local\\\\root\\\\Common\\\\EPC\\\\Crowder Industrial\\\\Crowder Santee Cooper Winyah ELG\\\\Isometrics\\\\3-0-528-40401N-PE01 - Isometric.pdf', ValueError('cannot reshape array of size 39 into shape (4)'))\n"
     ]
    },
    {
     "name": "stderr",
     "output_type": "stream",
     "text": [
      "\r",
      " 29%|███████████████████████▍                                                         | 81/280 [01:12<02:23,  1.39it/s]"
     ]
    },
    {
     "name": "stdout",
     "output_type": "stream",
     "text": [
      "('\\\\\\\\isco-pipe.local\\\\root\\\\Common\\\\EPC\\\\Crowder Industrial\\\\Crowder Santee Cooper Winyah ELG\\\\Isometrics\\\\3-0-528-40401P-PE01 - Isometric.pdf', ValueError('cannot reshape array of size 39 into shape (4)'))\n"
     ]
    },
    {
     "name": "stderr",
     "output_type": "stream",
     "text": [
      " 53%|██████████████████████████████████████████▎                                     | 148/280 [02:09<01:48,  1.21it/s]"
     ]
    },
    {
     "name": "stdout",
     "output_type": "stream",
     "text": [
      "('\\\\\\\\isco-pipe.local\\\\root\\\\Common\\\\EPC\\\\Crowder Industrial\\\\Crowder Santee Cooper Winyah ELG\\\\Isometrics\\\\4-0-528-40655-PE01 - Isometric.pdf', ValueError('cannot reshape array of size 14 into shape (5)'))\n"
     ]
    },
    {
     "name": "stderr",
     "output_type": "stream",
     "text": [
      " 55%|████████████████████████████████████████████                                    | 154/280 [02:15<02:07,  1.01s/it]"
     ]
    },
    {
     "name": "stdout",
     "output_type": "stream",
     "text": [
      "('\\\\\\\\isco-pipe.local\\\\root\\\\Common\\\\EPC\\\\Crowder Industrial\\\\Crowder Santee Cooper Winyah ELG\\\\Isometrics\\\\6-0-528-40007-PE01 - Isometric.pdf', ValueError('cannot reshape array of size 9 into shape (5)'))\n"
     ]
    },
    {
     "name": "stderr",
     "output_type": "stream",
     "text": [
      " 79%|███████████████████████████████████████████████████████████████▍                | 222/280 [03:16<01:12,  1.25s/it]"
     ]
    },
    {
     "name": "stdout",
     "output_type": "stream",
     "text": [
      "('\\\\\\\\isco-pipe.local\\\\root\\\\Common\\\\EPC\\\\Crowder Industrial\\\\Crowder Santee Cooper Winyah ELG\\\\Isometrics\\\\6-0-528-40657-PE01 - Isometric.pdf', ValueError('cannot reshape array of size 14 into shape (5)'))\n"
     ]
    },
    {
     "name": "stderr",
     "output_type": "stream",
     "text": [
      " 87%|█████████████████████████████████████████████████████████████████████▋          | 244/280 [03:36<00:33,  1.09it/s]"
     ]
    },
    {
     "name": "stdout",
     "output_type": "stream",
     "text": [
      "('\\\\\\\\isco-pipe.local\\\\root\\\\Common\\\\EPC\\\\Crowder Industrial\\\\Crowder Santee Cooper Winyah ELG\\\\Isometrics\\\\8-0-528-40197-PE01 - Isometric.pdf', ValueError('cannot reshape array of size 19 into shape (5)'))\n"
     ]
    },
    {
     "name": "stderr",
     "output_type": "stream",
     "text": [
      "100%|████████████████████████████████████████████████████████████████████████████████| 280/280 [04:07<00:00,  1.13it/s]"
     ]
    },
    {
     "name": "stdout",
     "output_type": "stream",
     "text": [
      "('\\\\\\\\isco-pipe.local\\\\root\\\\Common\\\\EPC\\\\Crowder Industrial\\\\Crowder Santee Cooper Winyah ELG\\\\Isometrics\\\\8-0-528-40659-PE01 - Isometric.pdf', ValueError('cannot reshape array of size 14 into shape (5)'))\n"
     ]
    },
    {
     "name": "stderr",
     "output_type": "stream",
     "text": [
      "\n"
     ]
    }
   ],
   "source": [
    "bills_of_materials,errors = extract_bills_of_materials(fol_path)"
   ]
  },
  {
   "cell_type": "code",
   "execution_count": 23,
   "id": "f55e9ec0",
   "metadata": {},
   "outputs": [
    {
     "data": {
      "text/plain": [
       "260"
      ]
     },
     "execution_count": 23,
     "metadata": {},
     "output_type": "execute_result"
    }
   ],
   "source": [
    "df = pd.concat(bills_of_materials)\n",
    "len(df['FILE_PATH'].unique())"
   ]
  },
  {
   "cell_type": "code",
   "execution_count": 24,
   "id": "24314301",
   "metadata": {},
   "outputs": [],
   "source": [
    "df.to_excel(os.path.join(fol_path,'extracted_boms.xlsx'))"
   ]
  },
  {
   "cell_type": "code",
   "execution_count": 25,
   "id": "128f50ac",
   "metadata": {},
   "outputs": [],
   "source": [
    "with open(os.path.join(fol_path,'extracted_boms_errors.txt'),'w') as error_txt:\n",
    "    for error in errors:\n",
    "        error_txt.write(str(error)+'\\n')"
   ]
  },
  {
   "cell_type": "code",
   "execution_count": null,
   "id": "4b03f72a",
   "metadata": {},
   "outputs": [],
   "source": []
  }
 ],
 "metadata": {
  "kernelspec": {
   "display_name": "Python 3 (ipykernel)",
   "language": "python",
   "name": "python3"
  },
  "language_info": {
   "codemirror_mode": {
    "name": "ipython",
    "version": 3
   },
   "file_extension": ".py",
   "mimetype": "text/x-python",
   "name": "python",
   "nbconvert_exporter": "python",
   "pygments_lexer": "ipython3",
   "version": "3.7.13"
  }
 },
 "nbformat": 4,
 "nbformat_minor": 5
}
