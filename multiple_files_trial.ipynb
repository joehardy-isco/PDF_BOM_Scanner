{
 "cells": [
  {
   "cell_type": "code",
   "execution_count": 70,
   "id": "dbbecc02",
   "metadata": {},
   "outputs": [],
   "source": [
    "import os\n",
    "import numpy as np\n",
    "import fitz\n",
    "import pandas as pd\n",
    "from tqdm import tqdm\n",
    "from numba import jit\n",
    "fol_path = r'\\\\isco-pipe.local\\root\\Common\\EPC\\Crowder Industrial\\Crowder Santee Cooper Cross ELG\\Isometrics'"
   ]
  },
  {
   "cell_type": "code",
   "execution_count": 71,
   "id": "7e81e1e4",
   "metadata": {},
   "outputs": [],
   "source": [
    "def extract_text_pymupdf(pdf_path):\n",
    "    doc = fitz.open(pdf_path)\n",
    "    text = \"\"\n",
    "    for page in doc:\n",
    "        text += page.get_text()\n",
    "    return text\n",
    "\n",
    "@jit(nopython=True)\n",
    "def do_extraction(full_pdf_path):\n",
    "    # Extract text using PyMuPDF\n",
    "    pymupdf_text = extract_text_pymupdf(full_pdf_path).split(\"\\n\")\n",
    "    bill_of_materials = []\n",
    "    start_collecting = False\n",
    "    for line in pymupdf_text:\n",
    "        if line=='N':\n",
    "            break\n",
    "        if line=='BILL OF MATERIALS':\n",
    "            start_collecting = True\n",
    "        bill_of_materials.append(line)\n",
    "    return bill_of_materials\n",
    "\n",
    "@jit(nopython=True)\n",
    "def handle_missing_values(table,gap,expected_length):\n",
    "    fixed_new_table = []\n",
    "    last_id = 0\n",
    "    last_id_pos = 0\n",
    "    for el_pos,element in enumerate(table):\n",
    "        if element.strip().isnumeric():\n",
    "            int_el = int(element)\n",
    "            if last_id_pos==0:\n",
    "                last_id = int_el\n",
    "                last_id_pos = el_pos\n",
    "            elif int_el == last_id + 1:\n",
    "                if el_pos==last_id_pos + gap:# and el_pos>last_id_pos+3:\n",
    "                    last_id = int_el\n",
    "                    last_id_pos = el_pos\n",
    "                    fixed_new_table.append('')\n",
    "        fixed_new_table.append(element)\n",
    "    if len(fixed_new_table)%expected_length == gap:\n",
    "        fixed_new_table.append('')\n",
    "    try:\n",
    "        return np.array(fixed_new_table).reshape(-1,expected_length)\n",
    "    except:\n",
    "        print(fixed_new_table)\n",
    "@jit(nopython=True)\n",
    "def make_table(bill_of_materials):\n",
    "    new_table = []\n",
    "    second_table = []\n",
    "    third_table = []\n",
    "    unallowed = ['BILL OF MATERIALS','PIPE','FITTINGS','OLETS','FLANGES','VALVES','PIPE SUPPORTS']\n",
    "    columns = ['ID','QTY','ND','DESCRIPTION','SUPPORT DETAIL','INSTRUMENTS']\n",
    "    columns_seen = [0,0,0,0,0,0]\n",
    "    table_to_input = new_table\n",
    "    second_table_used = False\n",
    "    third_table_used = False\n",
    "    \n",
    "    for t_element in bill_of_materials:\n",
    "        if not t_element.upper().strip() in unallowed:\n",
    "            try:\n",
    "                col_i = columns.index(t_element.upper().strip())\n",
    "            except:\n",
    "                col_i = -1\n",
    "            if col_i!=-1:\n",
    "                if columns_seen[col_i]==0:\n",
    "                    if t_element=='SUPPORT DETAIL':\n",
    "                        new_table = table_to_input\n",
    "                        table_to_input = second_table\n",
    "                        table_to_input.extend(columns[:-2])\n",
    "                        second_table_used = True\n",
    "                    elif t_element=='INSTRUMENTS':\n",
    "                        second_table = table_to_input\n",
    "                        table_to_input = third_table\n",
    "                        table_to_input.extend(columns[:-3])\n",
    "                        third_table_used = True\n",
    "                    columns_seen[col_i]=1\n",
    "                elif columns_seen[col_i]==1:\n",
    "                    continue\n",
    "            table_to_input.append(t_element)\n",
    "    if third_table_used:\n",
    "        third_table = table_to_input\n",
    "    elif second_table_used:\n",
    "        second_table = table_to_input\n",
    "    else:\n",
    "        new_table = table_to_input\n",
    "    #handle errors where the last value in a row is blank by keeping track of the IDs (each line is prev_ID + 1) \n",
    "    #and making sure that there are at least 3 values between them, if not, add an empty string\n",
    "    \n",
    "#     new_table = np.array(fixed_new_table).reshape(-1,4)\n",
    "# #     except:\n",
    "# #         print('new:',fixed_new_table)\n",
    "    \n",
    "#     if len(second_table)>0:\n",
    "#         #print(second_table)\n",
    "#         fixed_second_table = []\n",
    "#         last_id = 0\n",
    "#         last_id_pos = 0\n",
    "#         for el_pos,element in enumerate(second_table):\n",
    "#             if element.strip().isnumeric():\n",
    "#                 int_el = int(element)\n",
    "#                 if last_id_pos==0:\n",
    "#                     last_id = int_el\n",
    "#                     last_id_pos = el_pos\n",
    "#                 elif int_el == last_id + 1:\n",
    "#                     if el_pos==last_id_pos + 4:# and el_pos>last_id_pos:\n",
    "#                         last_id = int_el\n",
    "#                         last_id_pos = el_pos\n",
    "#                         fixed_second_table.append('')\n",
    "#             fixed_second_table.append(element)\n",
    "# #         try:\n",
    "#         if len(fixed_second_table)%5 == 4:\n",
    "#             fixed_second_table.append('')\n",
    "#         second_table = np.array(fixed_second_table).reshape(-1,5)\n",
    "#         except:\n",
    "#             print('second:',fixed_second_table)\n",
    "    new_table=handle_missing_values(new_table,3,4)\n",
    "    if second_table:\n",
    "        second_table=handle_missing_values(second_table,4,5)\n",
    "    if third_table:\n",
    "        third_table=handle_missing_values(third_table,3,4)\n",
    "    return new_table,second_table,third_table\n",
    "@jit(nopython=True)\n",
    "def combine_tables(new_table,second_table,third_table,pdf_path):\n",
    "    ndf = pd.DataFrame(new_table)\n",
    "    ndf.columns = ndf.iloc[0]\n",
    "    ndf = ndf.drop(0)\n",
    "    if isinstance(second_table,np.ndarray):\n",
    "        sdf = pd.DataFrame(second_table)\n",
    "        sdf.columns = sdf.iloc[0]\n",
    "        sdf = sdf.drop(0)\n",
    "        combined = pd.concat([ndf, sdf])#.fillna(None)\n",
    "        final = combined\n",
    "    else:\n",
    "        final = ndf\n",
    "        \n",
    "    if isinstance(third_table,np.ndarray):\n",
    "        sdf = pd.DataFrame(third_table)\n",
    "        sdf.columns = sdf.iloc[0]\n",
    "        sdf = sdf.drop(0)\n",
    "        combined = pd.concat([final, sdf])#.fillna(None)\n",
    "        final = combined\n",
    "    else:\n",
    "        final = ndf\n",
    "    final['FILE_PATH'] = os.path.split(pdf_path)[1]\n",
    "    return final\n",
    "@jit(nopython=True)\n",
    "def extract_bill_of_materials(pdf_path):\n",
    "    bill_of_materials = do_extraction(pdf_path)\n",
    "    t1,t2,t3 = make_table(bill_of_materials)\n",
    "    t = combine_tables(t1,t2,t3,pdf_path)\n",
    "    return t\n",
    "@jit(nopython=True)\n",
    "def extract_bills_of_materials(fol_path):\n",
    "    bills_of_materials = []\n",
    "    errors = []\n",
    "    for pdf in tqdm(os.listdir(fol_path)):\n",
    "        #print(pdf)\n",
    "        if not os.path.splitext(pdf)[1]=='.pdf':continue\n",
    "        pdf_path = os.path.join(fol_path,pdf)\n",
    "        try:\n",
    "            bills_of_materials.append(extract_bill_of_materials(pdf_path))\n",
    "        except Exception as e:\n",
    "            print((pdf_path,e))\n",
    "            errors.append((pdf_path,e))\n",
    "            \n",
    "    return bills_of_materials,errors"
   ]
  },
  {
   "cell_type": "code",
   "execution_count": 72,
   "id": "a8fc1be0",
   "metadata": {},
   "outputs": [
    {
     "name": "stderr",
     "output_type": "stream",
     "text": [
      " 61%|████████████████████████████████████████████████▌                               | 209/344 [03:00<01:59,  1.13it/s]"
     ]
    },
    {
     "name": "stdout",
     "output_type": "stream",
     "text": [
      "['ID', 'QTY', 'ND', 'DESCRIPTION', '1', '24\\'-6\"', '6\"', 'PIPE, IPS DR 11, ASTM D3350, PE 4710', '2', '5', '6\"', 'ELL 90, HDPE, PE, IPS DR 11, MOLDED', '3', '1', '6\"', 'FLANGE ADAPTER, IPS DR 11, LJXPE, ASTM F2880. PE4710,  WITH BACK-UP RING, CL 150, DR 11,', 'ASME/ANSI 16.5']\n",
      "('\\\\\\\\isco-pipe.local\\\\root\\\\Common\\\\EPC\\\\Crowder Industrial\\\\Crowder Santee Cooper Cross ELG\\\\Isometrics\\\\6-0-528-40262-PE01 - Isometric.pdf', IndexError('single positional indexer is out-of-bounds'))\n"
     ]
    },
    {
     "name": "stderr",
     "output_type": "stream",
     "text": [
      "100%|████████████████████████████████████████████████████████████████████████████████| 344/344 [04:55<00:00,  1.17it/s]\n"
     ]
    }
   ],
   "source": [
    "bills_of_materials,errors = extract_bills_of_materials(fol_path)"
   ]
  },
  {
   "cell_type": "code",
   "execution_count": 73,
   "id": "3a52a8f1",
   "metadata": {},
   "outputs": [
    {
     "data": {
      "text/plain": [
       "[('\\\\\\\\isco-pipe.local\\\\root\\\\Common\\\\EPC\\\\Crowder Industrial\\\\Crowder Santee Cooper Cross ELG\\\\Isometrics\\\\6-0-528-40262-PE01 - Isometric.pdf',\n",
       "  IndexError('single positional indexer is out-of-bounds'))]"
      ]
     },
     "execution_count": 73,
     "metadata": {},
     "output_type": "execute_result"
    }
   ],
   "source": [
    "errors"
   ]
  },
  {
   "cell_type": "code",
   "execution_count": 74,
   "id": "f55e9ec0",
   "metadata": {},
   "outputs": [
    {
     "data": {
      "text/plain": [
       "341"
      ]
     },
     "execution_count": 74,
     "metadata": {},
     "output_type": "execute_result"
    }
   ],
   "source": [
    "df = pd.concat(bills_of_materials)\n",
    "len(df['FILE_PATH'].unique())"
   ]
  },
  {
   "cell_type": "code",
   "execution_count": 75,
   "id": "24314301",
   "metadata": {},
   "outputs": [],
   "source": [
    "df.to_excel(os.path.join(fol_path,'extracted_boms_fixed.xlsx'))"
   ]
  },
  {
   "cell_type": "code",
   "execution_count": 50,
   "id": "128f50ac",
   "metadata": {},
   "outputs": [],
   "source": [
    "with open(os.path.join(fol_path,'extracted_boms_errors.txt'),'w') as error_txt:\n",
    "    for error in errors:\n",
    "        error_txt.write(str(error)+'\\n')"
   ]
  },
  {
   "cell_type": "code",
   "execution_count": 81,
   "id": "4b03f72a",
   "metadata": {},
   "outputs": [
    {
     "data": {
      "text/html": [
       "<table border=\"1\" class=\"dataframe\">\n",
       "  <thead>\n",
       "    <tr style=\"text-align: right;\">\n",
       "      <th></th>\n",
       "      <th>0</th>\n",
       "      <th>1</th>\n",
       "      <th>2</th>\n",
       "      <th>3</th>\n",
       "    </tr>\n",
       "  </thead>\n",
       "  <tbody>\n",
       "    <tr>\n",
       "      <th>0</th>\n",
       "      <td>ID</td>\n",
       "      <td>QTY</td>\n",
       "      <td>ND</td>\n",
       "      <td>DESCRIPTION</td>\n",
       "    </tr>\n",
       "    <tr>\n",
       "      <th>1</th>\n",
       "      <td>1</td>\n",
       "      <td>24'-6\"</td>\n",
       "      <td>6\"</td>\n",
       "      <td>PIPE, IPS DR 11, ASTM D3350, PE 4710</td>\n",
       "    </tr>\n",
       "    <tr>\n",
       "      <th>2</th>\n",
       "      <td>2</td>\n",
       "      <td>5</td>\n",
       "      <td>6\"</td>\n",
       "      <td>ELL 90, HDPE, PE, IPS DR 11, MOLDED</td>\n",
       "    </tr>\n",
       "    <tr>\n",
       "      <th>3</th>\n",
       "      <td>3</td>\n",
       "      <td>1</td>\n",
       "      <td>6\"</td>\n",
       "      <td>FLANGE ADAPTER, IPS DR 11, LJXPE, ASTM F2880. PE4710,  WITH BACK-UP RING, CL 150, DR 11,ASME/ANSI 16.5</td>\n",
       "    </tr>\n",
       "  </tbody>\n",
       "</table>"
      ],
      "text/plain": [
       "<IPython.core.display.HTML object>"
      ]
     },
     "execution_count": 81,
     "metadata": {},
     "output_type": "execute_result"
    }
   ],
   "source": [
    "from IPython.core.display import HTML\n",
    "a=np.array(['ID', 'QTY', 'ND', 'DESCRIPTION', '1', '24\\'-6\"', '6\"', 'PIPE, IPS DR 11, ASTM D3350, PE 4710', '2', '5', '6\"', 'ELL 90, HDPE, PE, IPS DR 11, MOLDED', '3', '1', '6\"', 'FLANGE ADAPTER, IPS DR 11, LJXPE, ASTM F2880. PE4710,  WITH BACK-UP RING, CL 150, DR 11,ASME/ANSI 16.5'])\n",
    "HTML(pd.DataFrame(a.reshape(-1,4)).to_html())"
   ]
  },
  {
   "cell_type": "code",
   "execution_count": null,
   "id": "ff887c56",
   "metadata": {},
   "outputs": [],
   "source": []
  }
 ],
 "metadata": {
  "kernelspec": {
   "display_name": "Python 3 (ipykernel)",
   "language": "python",
   "name": "python3"
  },
  "language_info": {
   "codemirror_mode": {
    "name": "ipython",
    "version": 3
   },
   "file_extension": ".py",
   "mimetype": "text/x-python",
   "name": "python",
   "nbconvert_exporter": "python",
   "pygments_lexer": "ipython3",
   "version": "3.7.13"
  }
 },
 "nbformat": 4,
 "nbformat_minor": 5
}
